{
  "nbformat": 4,
  "nbformat_minor": 0,
  "metadata": {
    "colab": {
      "provenance": [],
      "include_colab_link": true
    },
    "kernelspec": {
      "name": "python3",
      "display_name": "Python 3"
    },
    "language_info": {
      "name": "python"
    }
  },
  "cells": [
    {
      "cell_type": "markdown",
      "metadata": {
        "id": "view-in-github",
        "colab_type": "text"
      },
      "source": [
        "<a href=\"https://colab.research.google.com/github/Saul-M/Deep-Learning-Class/blob/main/10_2_Convolution_for_MNIST_1D_(1).ipynb\" target=\"_parent\"><img src=\"https://colab.research.google.com/assets/colab-badge.svg\" alt=\"Open In Colab\"/></a>"
      ]
    },
    {
      "cell_type": "markdown",
      "source": [
        "# **Notebook 10.2: Convolution for MNIST-1D**\n",
        "\n",
        "This notebook investigates a 1D convolutional network for MNIST-1D as in figure 10.7 and 10.8a.\n",
        "\n",
        "Work through the cells below, running each cell in turn. In various places you will see the words \"TO DO\". Follow the instructions at these places and make predictions about what is going to happen or write code to complete the functions.\n",
        "\n",
        "Contact me at udlbookmail@gmail.com if you find any mistakes or have any suggestions.\n",
        "\n"
      ],
      "metadata": {
        "id": "t9vk9Elugvmi"
      }
    },
    {
      "cell_type": "code",
      "source": [
        "# Run this if you're in a Colab to install MNIST 1D repository\n",
        "!pip install git+https://github.com/greydanus/mnist1d"
      ],
      "metadata": {
        "id": "D5yLObtZCi9J",
        "colab": {
          "base_uri": "https://localhost:8080/"
        },
        "outputId": "d36494f4-44b4-41a8-df6e-71acf19e2f00"
      },
      "execution_count": 1,
      "outputs": [
        {
          "output_type": "stream",
          "name": "stdout",
          "text": [
            "Collecting git+https://github.com/greydanus/mnist1d\n",
            "  Cloning https://github.com/greydanus/mnist1d to /tmp/pip-req-build-7vm6maom\n",
            "  Running command git clone --filter=blob:none --quiet https://github.com/greydanus/mnist1d /tmp/pip-req-build-7vm6maom\n",
            "  Resolved https://github.com/greydanus/mnist1d to commit 7878d96082abd200c546a07a4101fa90b30fdf7e\n",
            "  Installing build dependencies ... \u001b[?25l\u001b[?25hdone\n",
            "  Getting requirements to build wheel ... \u001b[?25l\u001b[?25hdone\n",
            "  Preparing metadata (pyproject.toml) ... \u001b[?25l\u001b[?25hdone\n",
            "Requirement already satisfied: requests in /usr/local/lib/python3.10/dist-packages (from mnist1d==0.0.2.post16) (2.32.3)\n",
            "Requirement already satisfied: numpy in /usr/local/lib/python3.10/dist-packages (from mnist1d==0.0.2.post16) (1.26.4)\n",
            "Requirement already satisfied: matplotlib in /usr/local/lib/python3.10/dist-packages (from mnist1d==0.0.2.post16) (3.7.1)\n",
            "Requirement already satisfied: scipy in /usr/local/lib/python3.10/dist-packages (from mnist1d==0.0.2.post16) (1.13.1)\n",
            "Requirement already satisfied: contourpy>=1.0.1 in /usr/local/lib/python3.10/dist-packages (from matplotlib->mnist1d==0.0.2.post16) (1.3.0)\n",
            "Requirement already satisfied: cycler>=0.10 in /usr/local/lib/python3.10/dist-packages (from matplotlib->mnist1d==0.0.2.post16) (0.12.1)\n",
            "Requirement already satisfied: fonttools>=4.22.0 in /usr/local/lib/python3.10/dist-packages (from matplotlib->mnist1d==0.0.2.post16) (4.54.1)\n",
            "Requirement already satisfied: kiwisolver>=1.0.1 in /usr/local/lib/python3.10/dist-packages (from matplotlib->mnist1d==0.0.2.post16) (1.4.7)\n",
            "Requirement already satisfied: packaging>=20.0 in /usr/local/lib/python3.10/dist-packages (from matplotlib->mnist1d==0.0.2.post16) (24.1)\n",
            "Requirement already satisfied: pillow>=6.2.0 in /usr/local/lib/python3.10/dist-packages (from matplotlib->mnist1d==0.0.2.post16) (10.4.0)\n",
            "Requirement already satisfied: pyparsing>=2.3.1 in /usr/local/lib/python3.10/dist-packages (from matplotlib->mnist1d==0.0.2.post16) (3.2.0)\n",
            "Requirement already satisfied: python-dateutil>=2.7 in /usr/local/lib/python3.10/dist-packages (from matplotlib->mnist1d==0.0.2.post16) (2.8.2)\n",
            "Requirement already satisfied: charset-normalizer<4,>=2 in /usr/local/lib/python3.10/dist-packages (from requests->mnist1d==0.0.2.post16) (3.4.0)\n",
            "Requirement already satisfied: idna<4,>=2.5 in /usr/local/lib/python3.10/dist-packages (from requests->mnist1d==0.0.2.post16) (3.10)\n",
            "Requirement already satisfied: urllib3<3,>=1.21.1 in /usr/local/lib/python3.10/dist-packages (from requests->mnist1d==0.0.2.post16) (2.2.3)\n",
            "Requirement already satisfied: certifi>=2017.4.17 in /usr/local/lib/python3.10/dist-packages (from requests->mnist1d==0.0.2.post16) (2024.8.30)\n",
            "Requirement already satisfied: six>=1.5 in /usr/local/lib/python3.10/dist-packages (from python-dateutil>=2.7->matplotlib->mnist1d==0.0.2.post16) (1.16.0)\n",
            "Building wheels for collected packages: mnist1d\n",
            "  Building wheel for mnist1d (pyproject.toml) ... \u001b[?25l\u001b[?25hdone\n",
            "  Created wheel for mnist1d: filename=mnist1d-0.0.2.post16-py3-none-any.whl size=14624 sha256=ef94f09335601c2d024c06d09717dfcf7d563cc30dec837e3b24fd4dbacf3db0\n",
            "  Stored in directory: /tmp/pip-ephem-wheel-cache-7gri52ft/wheels/41/95/55/45fcf7d38cfa97e35682da6c5017d4513729131326ce935371\n",
            "Successfully built mnist1d\n",
            "Installing collected packages: mnist1d\n",
            "Successfully installed mnist1d-0.0.2.post16\n"
          ]
        }
      ]
    },
    {
      "cell_type": "code",
      "source": [
        "import numpy as np\n",
        "import os\n",
        "import torch, torch.nn as nn\n",
        "from torch.utils.data import TensorDataset, DataLoader\n",
        "from torch.optim.lr_scheduler import StepLR\n",
        "import matplotlib.pyplot as plt\n",
        "import mnist1d\n",
        "import random"
      ],
      "metadata": {
        "id": "YrXWAH7sUWvU"
      },
      "execution_count": 2,
      "outputs": []
    },
    {
      "cell_type": "code",
      "source": [
        "args = mnist1d.data.get_dataset_args()\n",
        "data = mnist1d.data.get_dataset(args, path='./mnist1d_data.pkl', download=False, regenerate=False)\n",
        "\n",
        "# The training and test input and outputs are in\n",
        "# data['x'], data['y'], data['x_test'], and data['y_test']\n",
        "print(\"Examples in training set: {}\".format(len(data['y'])))\n",
        "print(\"Examples in test set: {}\".format(len(data['y_test'])))\n",
        "print(\"Length of each example: {}\".format(data['x'].shape[-1]))"
      ],
      "metadata": {
        "id": "twI72ZCrCt5z",
        "colab": {
          "base_uri": "https://localhost:8080/"
        },
        "outputId": "3a0afef2-8b79-4ccd-c649-662fc2ab5f35"
      },
      "execution_count": 3,
      "outputs": [
        {
          "output_type": "stream",
          "name": "stdout",
          "text": [
            "Did or could not load data from ./mnist1d_data.pkl. Rebuilding dataset...\n",
            "Examples in training set: 4000\n",
            "Examples in test set: 1000\n",
            "Length of each example: 40\n"
          ]
        }
      ]
    },
    {
      "cell_type": "code",
      "source": [
        "# Load in the data\n",
        "train_data_x = data['x'].transpose()\n",
        "train_data_y = data['y']\n",
        "val_data_x = data['x_test'].transpose()\n",
        "val_data_y = data['y_test']\n",
        "# Print out sizes\n",
        "print(\"Train data: %d examples (columns), each of which has %d dimensions (rows)\"%((train_data_x.shape[1],train_data_x.shape[0])))\n",
        "print(\"Validation data: %d examples (columns), each of which has %d dimensions (rows)\"%((val_data_x.shape[1],val_data_x.shape[0])))"
      ],
      "metadata": {
        "id": "8bKADvLHbiV5",
        "colab": {
          "base_uri": "https://localhost:8080/"
        },
        "outputId": "90ae27c5-4372-4933-f9d4-72c858a8bf71"
      },
      "execution_count": 4,
      "outputs": [
        {
          "output_type": "stream",
          "name": "stdout",
          "text": [
            "Train data: 4000 examples (columns), each of which has 40 dimensions (rows)\n",
            "Validation data: 1000 examples (columns), each of which has 40 dimensions (rows)\n"
          ]
        }
      ]
    },
    {
      "cell_type": "markdown",
      "source": [
        "Define the network"
      ],
      "metadata": {
        "id": "_sFvRDGrl4qe"
      }
    },
    {
      "cell_type": "code",
      "source": [
        "# There are 40 input dimensions and 10 output dimensions for this data\n",
        "# The inputs correspond to the 40 offsets in the MNIST1D template.\n",
        "D_i = 40\n",
        "# The outputs correspond to the 10 digits\n",
        "D_o = 10\n",
        "\n",
        "\n",
        "# TODO Create a model with the following layers\n",
        "# 1. Convolutional layer, (input=length 40 and 1 channel, kernel size 3, stride 2, padding=\"valid\", 15 output channels )\n",
        "\n",
        "# 2. ReLU\n",
        "# 3. Convolutional layer, (input=length 19 and 15 channels, kernel size 3, stride 2, padding=\"valid\", 15 output channels )\n",
        "# 4. ReLU\n",
        "# 5. Convolutional layer, (input=length 9 and 15 channels, kernel size 3, stride 2, padding=\"valid\", 15 output channels)\n",
        "# 6. ReLU\n",
        "# 7. Flatten (converts 4x15) to length 60\n",
        "# 8. Linear layer (input size = 60, output size = 10)\n",
        "# References:\n",
        "# https://pytorch.org/docs/1.13/generated/torch.nn.Conv1d.html?highlight=conv1d#torch.nn.Conv1d\n",
        "# https://pytorch.org/docs/stable/generated/torch.nn.Flatten.html\n",
        "# https://pytorch.org/docs/1.13/generated/torch.nn.Linear.html?highlight=linear#torch.nn.Linear\n",
        "\n",
        "# NOTE THAT THE CONVOLUTIONAL LAYERS NEED TO TAKE THE NUMBER OF INPUT CHANNELS AS A PARAMETER\n",
        "# AND NOT THE INPUT SIZE.\n",
        "\n",
        "# Replace the following function:\n",
        "model = nn.Sequential(\n",
        "nn.Conv1d(1, 15, kernel_size = 3, stride=2, padding=\"valid\"),\n",
        "nn.ReLU(),\n",
        "nn.Conv1d(15, 15, kernel_size = 3, stride=2, padding=\"valid\"),\n",
        "nn.ReLU(),\n",
        "nn.Conv1d(15, 15, kernel_size = 3, stride=2, padding=\"valid\"),\n",
        "nn.ReLU(),\n",
        "nn.Flatten(),\n",
        "nn.Linear(60, 10)\n",
        ")\n",
        "\n",
        "\n",
        "\n"
      ],
      "metadata": {
        "id": "FslroPJJffrh"
      },
      "execution_count": 7,
      "outputs": []
    },
    {
      "cell_type": "code",
      "source": [
        "# He initialization of weights\n",
        "def weights_init(layer_in):\n",
        "  if isinstance(layer_in, nn.Linear):\n",
        "    nn.init.kaiming_uniform_(layer_in.weight)\n",
        "    layer_in.bias.data.fill_(0.0)"
      ],
      "metadata": {
        "id": "YgLaex1pfhqz"
      },
      "execution_count": 8,
      "outputs": []
    },
    {
      "cell_type": "code",
      "source": [
        "# choose cross entropy loss function (equation 5.24 in the loss notes)\n",
        "loss_function = nn.CrossEntropyLoss()\n",
        "# construct SGD optimizer and initialize learning rate and momentum\n",
        "optimizer = torch.optim.SGD(model.parameters(), lr = 0.05, momentum=0.9)\n",
        "# object that decreases learning rate by half every 20 epochs\n",
        "scheduler = StepLR(optimizer, step_size=20, gamma=0.5)\n",
        "# create 100 dummy data points and store in data loader class\n",
        "x_train = torch.tensor(train_data_x.transpose().astype('float32'))\n",
        "y_train = torch.tensor(train_data_y.astype('long')).long()\n",
        "x_val= torch.tensor(val_data_x.transpose().astype('float32'))\n",
        "y_val = torch.tensor(val_data_y.astype('long')).long()\n",
        "\n",
        "# load the data into a class that creates the batches\n",
        "data_loader = DataLoader(TensorDataset(x_train,y_train), batch_size=100, shuffle=True, worker_init_fn=np.random.seed(1))\n",
        "\n",
        "# Initialize model weights\n",
        "model.apply(weights_init)\n",
        "\n",
        "# loop over the dataset n_epoch times\n",
        "n_epoch = 100\n",
        "# store the loss and the % correct at each epoch\n",
        "losses_train = np.zeros((n_epoch))\n",
        "errors_train = np.zeros((n_epoch))\n",
        "losses_val = np.zeros((n_epoch))\n",
        "errors_val = np.zeros((n_epoch))\n",
        "\n",
        "for epoch in range(n_epoch):\n",
        "  # loop over batches\n",
        "  for i, data in enumerate(data_loader):\n",
        "    # retrieve inputs and labels for this batch\n",
        "    x_batch, y_batch = data\n",
        "    # zero the parameter gradients\n",
        "    optimizer.zero_grad()\n",
        "    # forward pass -- calculate model output\n",
        "    pred = model(x_batch[:,None,:])\n",
        "    # compute the loss\n",
        "    loss = loss_function(pred, y_batch)\n",
        "    # backward pass\n",
        "    loss.backward()\n",
        "    # SGD update\n",
        "    optimizer.step()\n",
        "\n",
        "  # Run whole dataset to get statistics -- normally wouldn't do this\n",
        "  pred_train = model(x_train[:,None,:])\n",
        "  pred_val = model(x_val[:,None,:])\n",
        "  _, predicted_train_class = torch.max(pred_train.data, 1)\n",
        "  _, predicted_val_class = torch.max(pred_val.data, 1)\n",
        "  errors_train[epoch] = 100 - 100 * (predicted_train_class == y_train).float().sum() / len(y_train)\n",
        "  errors_val[epoch]= 100 - 100 * (predicted_val_class == y_val).float().sum() / len(y_val)\n",
        "  losses_train[epoch] = loss_function(pred_train, y_train).item()\n",
        "  losses_val[epoch]= loss_function(pred_val, y_val).item()\n",
        "  print(f'Epoch {epoch:5d}, train loss {losses_train[epoch]:.6f}, train error {errors_train[epoch]:3.2f},  val loss {losses_val[epoch]:.6f}, percent error {errors_val[epoch]:3.2f}')\n",
        "\n",
        "  # tell scheduler to consider updating learning rate\n",
        "  scheduler.step()\n",
        "\n",
        "# Plot the results\n",
        "fig, ax = plt.subplots()\n",
        "ax.plot(errors_train,'r-',label='train')\n",
        "ax.plot(errors_val,'b-',label='validation')\n",
        "ax.set_ylim(0,100); ax.set_xlim(0,n_epoch)\n",
        "ax.set_xlabel('Epoch'); ax.set_ylabel('Error')\n",
        "ax.set_title('Part I: Validation Result %3.2f'%(errors_val[-1]))\n",
        "ax.legend()\n",
        "plt.show()"
      ],
      "metadata": {
        "id": "NYw8I_3mmX5c",
        "colab": {
          "base_uri": "https://localhost:8080/",
          "height": 1000
        },
        "outputId": "5cc6763d-188a-49d2-de9f-e7ca2a3fb746"
      },
      "execution_count": 9,
      "outputs": [
        {
          "output_type": "stream",
          "name": "stdout",
          "text": [
            "Epoch     0, train loss 1.916784, train error 73.10,  val loss 1.915204, percent error 74.50\n",
            "Epoch     1, train loss 1.680988, train error 67.30,  val loss 1.691023, percent error 69.10\n",
            "Epoch     2, train loss 1.442266, train error 58.65,  val loss 1.451081, percent error 62.50\n",
            "Epoch     3, train loss 1.356312, train error 56.62,  val loss 1.364738, percent error 59.10\n",
            "Epoch     4, train loss 1.255201, train error 49.97,  val loss 1.249494, percent error 51.20\n",
            "Epoch     5, train loss 1.162543, train error 47.38,  val loss 1.175894, percent error 50.00\n",
            "Epoch     6, train loss 1.068239, train error 43.47,  val loss 1.086865, percent error 45.00\n",
            "Epoch     7, train loss 0.968737, train error 38.17,  val loss 1.005060, percent error 40.30\n",
            "Epoch     8, train loss 0.914014, train error 37.05,  val loss 0.942710, percent error 38.40\n",
            "Epoch     9, train loss 0.798967, train error 30.60,  val loss 0.852610, percent error 33.80\n",
            "Epoch    10, train loss 0.741469, train error 30.20,  val loss 0.820202, percent error 32.90\n",
            "Epoch    11, train loss 0.673477, train error 26.50,  val loss 0.748543, percent error 31.30\n",
            "Epoch    12, train loss 0.591115, train error 22.10,  val loss 0.678618, percent error 26.20\n",
            "Epoch    13, train loss 0.555707, train error 19.97,  val loss 0.631597, percent error 24.00\n",
            "Epoch    14, train loss 0.528208, train error 19.57,  val loss 0.620483, percent error 23.80\n",
            "Epoch    15, train loss 0.441475, train error 16.80,  val loss 0.551396, percent error 20.90\n",
            "Epoch    16, train loss 0.406974, train error 14.80,  val loss 0.507759, percent error 17.90\n",
            "Epoch    17, train loss 0.358128, train error 13.50,  val loss 0.461747, percent error 17.00\n",
            "Epoch    18, train loss 0.355402, train error 13.28,  val loss 0.452208, percent error 15.40\n",
            "Epoch    19, train loss 0.267176, train error 9.15,  val loss 0.405630, percent error 13.80\n",
            "Epoch    20, train loss 0.253276, train error 8.60,  val loss 0.385015, percent error 12.40\n",
            "Epoch    21, train loss 0.244375, train error 8.88,  val loss 0.383831, percent error 12.30\n",
            "Epoch    22, train loss 0.198117, train error 6.90,  val loss 0.356203, percent error 11.40\n",
            "Epoch    23, train loss 0.228413, train error 8.12,  val loss 0.393916, percent error 11.50\n",
            "Epoch    24, train loss 0.185193, train error 6.25,  val loss 0.351662, percent error 11.60\n",
            "Epoch    25, train loss 0.190188, train error 6.28,  val loss 0.357264, percent error 11.80\n",
            "Epoch    26, train loss 0.162307, train error 5.53,  val loss 0.339054, percent error 10.40\n",
            "Epoch    27, train loss 0.170324, train error 5.95,  val loss 0.359335, percent error 10.90\n",
            "Epoch    28, train loss 0.158394, train error 5.53,  val loss 0.342917, percent error 10.50\n",
            "Epoch    29, train loss 0.161842, train error 5.28,  val loss 0.364760, percent error 10.70\n",
            "Epoch    30, train loss 0.136768, train error 4.40,  val loss 0.331565, percent error 9.70\n",
            "Epoch    31, train loss 0.133044, train error 4.50,  val loss 0.354038, percent error 11.40\n",
            "Epoch    32, train loss 0.132643, train error 4.25,  val loss 0.338666, percent error 10.20\n",
            "Epoch    33, train loss 0.122532, train error 3.78,  val loss 0.336374, percent error 9.30\n",
            "Epoch    34, train loss 0.119139, train error 4.05,  val loss 0.356370, percent error 10.10\n",
            "Epoch    35, train loss 0.135433, train error 4.78,  val loss 0.351537, percent error 9.90\n",
            "Epoch    36, train loss 0.140794, train error 5.03,  val loss 0.372053, percent error 11.50\n",
            "Epoch    37, train loss 0.112637, train error 4.03,  val loss 0.362849, percent error 9.70\n",
            "Epoch    38, train loss 0.108867, train error 3.68,  val loss 0.351991, percent error 10.30\n",
            "Epoch    39, train loss 0.178093, train error 6.38,  val loss 0.410719, percent error 10.10\n",
            "Epoch    40, train loss 0.088449, train error 2.60,  val loss 0.333028, percent error 9.40\n",
            "Epoch    41, train loss 0.078671, train error 2.45,  val loss 0.327188, percent error 9.40\n",
            "Epoch    42, train loss 0.082683, train error 2.35,  val loss 0.340182, percent error 9.00\n",
            "Epoch    43, train loss 0.072961, train error 1.95,  val loss 0.335577, percent error 8.40\n",
            "Epoch    44, train loss 0.074869, train error 2.20,  val loss 0.336595, percent error 9.00\n",
            "Epoch    45, train loss 0.069085, train error 1.82,  val loss 0.355581, percent error 9.30\n",
            "Epoch    46, train loss 0.068318, train error 1.82,  val loss 0.341774, percent error 9.30\n",
            "Epoch    47, train loss 0.068122, train error 1.88,  val loss 0.363508, percent error 9.30\n",
            "Epoch    48, train loss 0.062997, train error 1.45,  val loss 0.348942, percent error 9.00\n",
            "Epoch    49, train loss 0.063956, train error 1.65,  val loss 0.360416, percent error 8.70\n",
            "Epoch    50, train loss 0.058527, train error 1.28,  val loss 0.356044, percent error 9.10\n",
            "Epoch    51, train loss 0.060843, train error 1.65,  val loss 0.363419, percent error 9.10\n",
            "Epoch    52, train loss 0.057204, train error 1.38,  val loss 0.374035, percent error 9.40\n",
            "Epoch    53, train loss 0.059076, train error 1.47,  val loss 0.371326, percent error 9.00\n",
            "Epoch    54, train loss 0.054551, train error 1.32,  val loss 0.362669, percent error 8.30\n",
            "Epoch    55, train loss 0.052187, train error 1.25,  val loss 0.368238, percent error 8.90\n",
            "Epoch    56, train loss 0.055621, train error 1.38,  val loss 0.382407, percent error 9.20\n",
            "Epoch    57, train loss 0.053527, train error 1.28,  val loss 0.358241, percent error 8.70\n",
            "Epoch    58, train loss 0.049549, train error 0.90,  val loss 0.369125, percent error 9.00\n",
            "Epoch    59, train loss 0.051037, train error 1.22,  val loss 0.381538, percent error 9.10\n",
            "Epoch    60, train loss 0.044977, train error 0.72,  val loss 0.375345, percent error 8.80\n",
            "Epoch    61, train loss 0.044261, train error 0.78,  val loss 0.377019, percent error 8.40\n",
            "Epoch    62, train loss 0.044544, train error 0.85,  val loss 0.376729, percent error 8.90\n",
            "Epoch    63, train loss 0.043492, train error 0.82,  val loss 0.379485, percent error 8.40\n",
            "Epoch    64, train loss 0.043241, train error 0.70,  val loss 0.384484, percent error 8.70\n",
            "Epoch    65, train loss 0.042307, train error 0.80,  val loss 0.384703, percent error 8.70\n",
            "Epoch    66, train loss 0.042304, train error 0.82,  val loss 0.384182, percent error 8.70\n",
            "Epoch    67, train loss 0.041354, train error 0.75,  val loss 0.383394, percent error 8.70\n",
            "Epoch    68, train loss 0.042062, train error 0.75,  val loss 0.396818, percent error 9.10\n",
            "Epoch    69, train loss 0.040861, train error 0.78,  val loss 0.387162, percent error 8.80\n",
            "Epoch    70, train loss 0.040965, train error 0.75,  val loss 0.389075, percent error 8.90\n",
            "Epoch    71, train loss 0.040309, train error 0.78,  val loss 0.389709, percent error 8.60\n",
            "Epoch    72, train loss 0.038516, train error 0.65,  val loss 0.394029, percent error 8.90\n",
            "Epoch    73, train loss 0.038370, train error 0.65,  val loss 0.396668, percent error 9.10\n",
            "Epoch    74, train loss 0.038036, train error 0.57,  val loss 0.398271, percent error 8.80\n",
            "Epoch    75, train loss 0.038888, train error 0.68,  val loss 0.392436, percent error 9.40\n",
            "Epoch    76, train loss 0.036278, train error 0.55,  val loss 0.394674, percent error 8.90\n",
            "Epoch    77, train loss 0.036157, train error 0.57,  val loss 0.393277, percent error 9.20\n",
            "Epoch    78, train loss 0.035690, train error 0.53,  val loss 0.396141, percent error 9.00\n",
            "Epoch    79, train loss 0.035373, train error 0.55,  val loss 0.397577, percent error 9.40\n",
            "Epoch    80, train loss 0.034352, train error 0.50,  val loss 0.396633, percent error 9.00\n",
            "Epoch    81, train loss 0.034267, train error 0.47,  val loss 0.400454, percent error 8.90\n",
            "Epoch    82, train loss 0.033912, train error 0.50,  val loss 0.400436, percent error 9.10\n",
            "Epoch    83, train loss 0.033950, train error 0.57,  val loss 0.399224, percent error 9.10\n",
            "Epoch    84, train loss 0.033377, train error 0.43,  val loss 0.397984, percent error 9.10\n",
            "Epoch    85, train loss 0.033251, train error 0.47,  val loss 0.400585, percent error 9.10\n",
            "Epoch    86, train loss 0.033578, train error 0.47,  val loss 0.400569, percent error 9.10\n",
            "Epoch    87, train loss 0.032832, train error 0.43,  val loss 0.400242, percent error 9.00\n",
            "Epoch    88, train loss 0.033199, train error 0.50,  val loss 0.406610, percent error 8.90\n",
            "Epoch    89, train loss 0.033030, train error 0.47,  val loss 0.401712, percent error 8.90\n",
            "Epoch    90, train loss 0.032528, train error 0.35,  val loss 0.402081, percent error 9.00\n",
            "Epoch    91, train loss 0.032003, train error 0.45,  val loss 0.402930, percent error 9.20\n",
            "Epoch    92, train loss 0.032278, train error 0.45,  val loss 0.406620, percent error 9.30\n",
            "Epoch    93, train loss 0.031704, train error 0.43,  val loss 0.403445, percent error 9.30\n",
            "Epoch    94, train loss 0.031644, train error 0.38,  val loss 0.408483, percent error 8.90\n",
            "Epoch    95, train loss 0.031498, train error 0.35,  val loss 0.404217, percent error 9.20\n",
            "Epoch    96, train loss 0.031068, train error 0.35,  val loss 0.407060, percent error 9.10\n",
            "Epoch    97, train loss 0.030978, train error 0.38,  val loss 0.407555, percent error 9.10\n",
            "Epoch    98, train loss 0.030971, train error 0.35,  val loss 0.408680, percent error 9.00\n",
            "Epoch    99, train loss 0.030726, train error 0.45,  val loss 0.407541, percent error 9.20\n"
          ]
        },
        {
          "output_type": "display_data",
          "data": {
            "text/plain": [
              "<Figure size 640x480 with 1 Axes>"
            ],
            "image/png": "[encoded data removed]"
          },
          "metadata": {}
        }
      ]
    }
  ]
}